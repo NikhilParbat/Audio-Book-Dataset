{
 "cells": [
  {
   "cell_type": "markdown",
   "metadata": {},
   "source": [
    "Create Machine Learning Algorithm"
   ]
  },
  {
   "cell_type": "code",
   "execution_count": 11,
   "metadata": {},
   "outputs": [],
   "source": [
    "import numpy as np\n",
    "import tensorflow as tf"
   ]
  },
  {
   "cell_type": "code",
   "execution_count": 12,
   "metadata": {},
   "outputs": [],
   "source": [
    "npz = np.load('Audiobooks_data_train.npz')\n",
    "\n",
    "train_inputs = npz['inputs'].astype(np.float32)\n",
    "train_targets = npz['targets'].astype(np.int32)\n",
    "\n",
    "npz = np.load('Audiobooks_data_validation.npz')\n",
    "validation_inputs, validation_targets  = npz['inputs'].astype(np.float32), npz['targets'].astype(np.int32)\n",
    "\n",
    "npz = np.load('Audiobooks_data_test.npz')\n",
    "test_inputs, test_targets  = npz['inputs'].astype(np.float32), npz['targets'].astype(np.int32)"
   ]
  },
  {
   "cell_type": "markdown",
   "metadata": {},
   "source": [
    "Model"
   ]
  },
  {
   "cell_type": "code",
   "execution_count": 45,
   "metadata": {},
   "outputs": [
    {
     "name": "stdout",
     "output_type": "stream",
     "text": [
      "Epoch 1/100\n",
      "36/36 - 4s - 122ms/step - accuracy: 0.7407 - loss: 0.4877 - val_accuracy: 0.7897 - val_loss: 0.3786\n",
      "Epoch 2/100\n",
      "36/36 - 1s - 21ms/step - accuracy: 0.7938 - loss: 0.3836 - val_accuracy: 0.7919 - val_loss: 0.3719\n",
      "Epoch 3/100\n",
      "36/36 - 1s - 21ms/step - accuracy: 0.7999 - loss: 0.3696 - val_accuracy: 0.8009 - val_loss: 0.3541\n",
      "Epoch 4/100\n",
      "36/36 - 1s - 23ms/step - accuracy: 0.8022 - loss: 0.3692 - val_accuracy: 0.8233 - val_loss: 0.3669\n",
      "Epoch 5/100\n",
      "36/36 - 1s - 26ms/step - accuracy: 0.7941 - loss: 0.3809 - val_accuracy: 0.8054 - val_loss: 0.3480\n",
      "Epoch 6/100\n",
      "36/36 - 1s - 24ms/step - accuracy: 0.8069 - loss: 0.3625 - val_accuracy: 0.8121 - val_loss: 0.3550\n",
      "Epoch 7/100\n",
      "36/36 - 1s - 19ms/step - accuracy: 0.8039 - loss: 0.3593 - val_accuracy: 0.8031 - val_loss: 0.3416\n",
      "Epoch 8/100\n",
      "36/36 - 1s - 19ms/step - accuracy: 0.8092 - loss: 0.3559 - val_accuracy: 0.8143 - val_loss: 0.3394\n",
      "Epoch 9/100\n",
      "36/36 - 1s - 19ms/step - accuracy: 0.8150 - loss: 0.3575 - val_accuracy: 0.8031 - val_loss: 0.3517\n",
      "Epoch 10/100\n",
      "36/36 - 1s - 25ms/step - accuracy: 0.8103 - loss: 0.3482 - val_accuracy: 0.8166 - val_loss: 0.3328\n",
      "Epoch 11/100\n",
      "36/36 - 1s - 18ms/step - accuracy: 0.8122 - loss: 0.3521 - val_accuracy: 0.8143 - val_loss: 0.3526\n",
      "Epoch 12/100\n",
      "36/36 - 1s - 19ms/step - accuracy: 0.7972 - loss: 0.3761 - val_accuracy: 0.7875 - val_loss: 0.3915\n"
     ]
    },
    {
     "data": {
      "text/plain": [
       "<keras.src.callbacks.history.History at 0x21f98609550>"
      ]
     },
     "execution_count": 45,
     "metadata": {},
     "output_type": "execute_result"
    }
   ],
   "source": [
    "input_size = 10\n",
    "output_size = 2\n",
    "hidden_layer_size = 450\n",
    "\n",
    "model = tf.keras.Sequential([\n",
    "                            tf.keras.layers.Dense(hidden_layer_size, activation='relu'),\n",
    "                            tf.keras.layers.Dense(hidden_layer_size, activation='relu'),\n",
    "                            tf.keras.layers.Dense(hidden_layer_size, activation='relu'),\n",
    "                            tf.keras.layers.Dense(hidden_layer_size, activation='relu'),\n",
    "                            tf.keras.layers.Dense(hidden_layer_size, activation='relu'),\n",
    "                            tf.keras.layers.Dense(hidden_layer_size, activation='relu'),\n",
    "                            tf.keras.layers.Dense(output_size, activation='softmax'),\n",
    "                            ])\n",
    "\n",
    "model.compile(optimizer=\"adam\", loss='sparse_categorical_crossentropy', metrics=['accuracy'])\n",
    "\n",
    "batch_size = 100\n",
    "max_epochs = 100\n",
    "early_stopping = tf.keras.callbacks.EarlyStopping(patience = 2)\n",
    "\n",
    "model.fit(train_inputs, \n",
    "          train_targets,\n",
    "          batch_size = batch_size,\n",
    "          epochs = max_epochs,\n",
    "          callbacks = early_stopping,\n",
    "          validation_data = (validation_inputs, validation_targets),\n",
    "          verbose = 2\n",
    "          )"
   ]
  },
  {
   "cell_type": "code",
   "execution_count": null,
   "metadata": {},
   "outputs": [],
   "source": []
  }
 ],
 "metadata": {
  "kernelspec": {
   "display_name": "Python 3",
   "language": "python",
   "name": "python3"
  },
  "language_info": {
   "codemirror_mode": {
    "name": "ipython",
    "version": 3
   },
   "file_extension": ".py",
   "mimetype": "text/x-python",
   "name": "python",
   "nbconvert_exporter": "python",
   "pygments_lexer": "ipython3",
   "version": "3.11.9"
  }
 },
 "nbformat": 4,
 "nbformat_minor": 2
}
